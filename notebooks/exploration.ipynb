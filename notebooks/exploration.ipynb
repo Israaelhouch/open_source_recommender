{
 "cells": [
  {
   "cell_type": "code",
   "execution_count": 1,
   "id": "b2e060fa",
   "metadata": {},
   "outputs": [
    {
     "name": "stdout",
     "output_type": "stream",
     "text": [
      "<class 'pandas.core.frame.DataFrame'>\n",
      "RangeIndex: 86 entries, 0 to 85\n",
      "Data columns (total 9 columns):\n",
      " #   Column       Non-Null Count  Dtype \n",
      "---  ------       --------------  ----- \n",
      " 0   name         86 non-null     object\n",
      " 1   full_name    86 non-null     object\n",
      " 2   url          86 non-null     object\n",
      " 3   description  86 non-null     object\n",
      " 4   stars        86 non-null     int64 \n",
      " 5   field        86 non-null     object\n",
      " 6   language     86 non-null     object\n",
      " 7   topics       86 non-null     object\n",
      " 8   updated_at   86 non-null     object\n",
      "dtypes: int64(1), object(8)\n",
      "memory usage: 6.2+ KB\n",
      "None\n",
      "                                            name  \\\n",
      "0                                   transformers   \n",
      "1                                        pytorch   \n",
      "2                                         d2l-zh   \n",
      "3                                   scikit-learn   \n",
      "4  annotated_deep_learning_paper_implementations   \n",
      "\n",
      "                                           full_name  \\\n",
      "0                           huggingface/transformers   \n",
      "1                                    pytorch/pytorch   \n",
      "2                                      d2l-ai/d2l-zh   \n",
      "3                          scikit-learn/scikit-learn   \n",
      "4  labmlai/annotated_deep_learning_paper_implemen...   \n",
      "\n",
      "                                                 url  \\\n",
      "0        https://github.com/huggingface/transformers   \n",
      "1                 https://github.com/pytorch/pytorch   \n",
      "2                   https://github.com/d2l-ai/d2l-zh   \n",
      "3       https://github.com/scikit-learn/scikit-learn   \n",
      "4  https://github.com/labmlai/annotated_deep_lear...   \n",
      "\n",
      "                                         description   stars  \\\n",
      "0  🤗 Transformers: the model-definition framework...  151225   \n",
      "1  Tensors and Dynamic neural networks in Python ...   93995   \n",
      "2  《动手学深度学习》：面向中文读者、能运行、可讨论。中英文版被70多个国家的500多所大学用于教学。   73163   \n",
      "3           scikit-learn: machine learning in Python   63702   \n",
      "4  🧑‍🏫 60+ Implementations/tutorials of deep lear...   63619   \n",
      "\n",
      "              field language  \\\n",
      "0  machine-learning   Python   \n",
      "1  machine-learning   Python   \n",
      "2  machine-learning   Python   \n",
      "3      data-science   Python   \n",
      "4  machine-learning   Python   \n",
      "\n",
      "                                              topics            updated_at  \n",
      "0  ['audio', 'deep-learning', 'deepseek', 'gemma'...  2025-10-17T08:17:45Z  \n",
      "1  ['autograd', 'deep-learning', 'gpu', 'machine-...  2025-10-17T08:16:23Z  \n",
      "2  ['book', 'chinese', 'computer-vision', 'deep-l...  2025-10-17T07:35:53Z  \n",
      "3  ['data-analysis', 'data-science', 'machine-lea...  2025-10-17T07:09:53Z  \n",
      "4  ['attention', 'deep-learning', 'deep-learning-...  2025-10-17T07:20:03Z  \n"
     ]
    }
   ],
   "source": [
    "import pandas as pd\n",
    "\n",
    "df = pd.read_csv(\"../data/raw/github_repos.csv\")\n",
    "print(df.info())\n",
    "print(df.head())\n"
   ]
  },
  {
   "cell_type": "code",
   "execution_count": 2,
   "id": "5a0fa997",
   "metadata": {},
   "outputs": [
    {
     "name": "stdout",
     "output_type": "stream",
     "text": [
      "field\n",
      "data-science        30\n",
      "web                 30\n",
      "machine-learning    26\n",
      "Name: count, dtype: int64\n"
     ]
    }
   ],
   "source": [
    "print(df['field'].value_counts())"
   ]
  },
  {
   "cell_type": "code",
   "execution_count": 3,
   "id": "74318960",
   "metadata": {},
   "outputs": [],
   "source": [
    "\n",
    "df['description'] = df['description'].fillna('')\n",
    "df['language'] = df['language'].fillna('Unknown')\n",
    "df['stars'] = df['stars'].fillna(0).astype(int)\n",
    "df['updated_at'] = pd.to_datetime(df['updated_at'])"
   ]
  },
  {
   "cell_type": "code",
   "execution_count": 4,
   "id": "f43da06f",
   "metadata": {},
   "outputs": [
    {
     "name": "stdout",
     "output_type": "stream",
     "text": [
      "                                            name             field  \\\n",
      "0                                   transformers  machine-learning   \n",
      "1                                        pytorch  machine-learning   \n",
      "2                                         d2l-zh  machine-learning   \n",
      "3                                   scikit-learn      data-science   \n",
      "4  annotated_deep_learning_paper_implementations  machine-learning   \n",
      "\n",
      "   days_since_update  \n",
      "0                  0  \n",
      "1                  0  \n",
      "2                  0  \n",
      "3                  0  \n",
      "4                  0  \n"
     ]
    }
   ],
   "source": [
    "from datetime import datetime, timezone\n",
    "df['days_since_update'] = (datetime.now(timezone.utc) - df['updated_at']).dt.days \n",
    "\n",
    "print(df[['name', 'field', 'days_since_update']].head())"
   ]
  }
 ],
 "metadata": {
  "kernelspec": {
   "display_name": "Python 3",
   "language": "python",
   "name": "python3"
  },
  "language_info": {
   "codemirror_mode": {
    "name": "ipython",
    "version": 3
   },
   "file_extension": ".py",
   "mimetype": "text/x-python",
   "name": "python",
   "nbconvert_exporter": "python",
   "pygments_lexer": "ipython3",
   "version": "3.13.2"
  }
 },
 "nbformat": 4,
 "nbformat_minor": 5
}
